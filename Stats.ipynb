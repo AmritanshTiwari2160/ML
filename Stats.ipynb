{
 "cells": [
  {
   "cell_type": "code",
   "execution_count": 8,
   "id": "cbc937f6-a4f0-4aab-a3f0-50b2e2be6db1",
   "metadata": {},
   "outputs": [],
   "source": [
    "import numpy as np\n",
    "import scipy as sc"
   ]
  },
  {
   "cell_type": "code",
   "execution_count": 9,
   "id": "8d59b4b2-670b-45d4-9e71-2983f182974d",
   "metadata": {},
   "outputs": [],
   "source": [
    "data = np.array([23, 29, 20, 32, 23, 21, 33, 25, 30, 23, 29, 20, 32, 23, 21, 33, 25, 29, 30])"
   ]
  },
  {
   "cell_type": "code",
   "execution_count": 13,
   "id": "d63f9a61-c17d-4807-859a-a0c365c0aedc",
   "metadata": {},
   "outputs": [],
   "source": [
    "#Calculate mean\n",
    "mean = np.mean(data)\n",
    "\n",
    "#Calculate median\n",
    "median = np.median(data)\n",
    "\n",
    "#Calculate mode\n",
    "mode = sc.stats.mode(data)"
   ]
  },
  {
   "cell_type": "code",
   "execution_count": 18,
   "id": "4904e372-d12b-4d47-8518-dfb5834b2301",
   "metadata": {},
   "outputs": [
    {
     "name": "stdout",
     "output_type": "stream",
     "text": [
      "mean=  26.36842105263158\n",
      "median=  25.0\n",
      "mode=  23\n"
     ]
    }
   ],
   "source": [
    "print(\"mean= \",mean)\n",
    "print(\"median= \",median)\n",
    "print(\"mode= \",mode[0])"
   ]
  },
  {
   "cell_type": "code",
   "execution_count": 22,
   "id": "dba0c709-5b2a-49a0-8074-e26b4bed58ce",
   "metadata": {},
   "outputs": [
    {
     "name": "stdout",
     "output_type": "stream",
     "text": [
      "[-3.36842105  2.63157895 -6.36842105  5.63157895 -3.36842105 -5.36842105\n",
      "  6.63157895 -1.36842105  3.63157895 -3.36842105  2.63157895 -6.36842105\n",
      "  5.63157895 -3.36842105 -5.36842105  6.63157895 -1.36842105  2.63157895\n",
      "  3.63157895]\n"
     ]
    }
   ],
   "source": [
    "#Calculation of deviation\n",
    "deviation = data-mean\n",
    "print(deviation)"
   ]
  },
  {
   "cell_type": "code",
   "execution_count": 28,
   "id": "fb0b5f1d-f027-435d-a02e-267f97df21a9",
   "metadata": {},
   "outputs": [
    {
     "name": "stdout",
     "output_type": "stream",
     "text": [
      "[3.36842105 2.63157895 6.36842105 5.63157895 3.36842105 5.36842105\n",
      " 6.63157895 1.36842105 3.63157895 3.36842105 2.63157895 6.36842105\n",
      " 5.63157895 3.36842105 5.36842105 6.63157895 1.36842105 2.63157895\n",
      " 3.63157895]\n"
     ]
    }
   ],
   "source": [
    "#Calculation of Absolute deviation\n",
    "absolute_deviation = abs(deviation)\n",
    "print(absolute_deviation)"
   ]
  },
  {
   "cell_type": "code",
   "execution_count": 26,
   "id": "11c8d034-5038-4081-9ed4-2b59ce8c03a8",
   "metadata": {},
   "outputs": [
    {
     "name": "stdout",
     "output_type": "stream",
     "text": [
      "[11.34626039  6.92520776 40.5567867  31.71468144 11.34626039 28.8199446\n",
      " 43.97783934  1.87257618 13.18836565 11.34626039  6.92520776 40.5567867\n",
      " 31.71468144 11.34626039 28.8199446  43.97783934  1.87257618  6.92520776\n",
      " 13.18836565]\n"
     ]
    }
   ],
   "source": [
    "#Calculation of square deviation\n",
    "square_deviation = deviation**2\n",
    "print(square_deviation)"
   ]
  },
  {
   "cell_type": "code",
   "execution_count": 29,
   "id": "bf4b43cc-23ff-433d-898a-c9c285eac271",
   "metadata": {},
   "outputs": [],
   "source": [
    "#Calculation of avg square deviation, avg deviation, varience"
   ]
  },
  {
   "cell_type": "code",
   "execution_count": 36,
   "id": "37111903-8e8f-438a-b87b-43bc7bc017e4",
   "metadata": {},
   "outputs": [],
   "source": [
    "#avg_devi = sum(absolute_deviation) / len(absolute_deviation)\n",
    "avg_devi = np.mean(absolute_deviation)\n",
    "avg_sq_devi = np.mean(square_deviation)\n",
    "varience = np.var(data) # or np.var(square_deviation) idk"
   ]
  },
  {
   "cell_type": "code",
   "execution_count": 35,
   "id": "801c2e4d-f405-42ad-88e8-25eb72ad18dd",
   "metadata": {},
   "outputs": [
    {
     "name": "stdout",
     "output_type": "stream",
     "text": [
      "4.177285318559557\n",
      "20.337950138504155\n",
      "20.337950138504155\n"
     ]
    }
   ],
   "source": [
    "print(avg_devi)\n",
    "print(avg_sq_devi)\n",
    "print(varience)"
   ]
  },
  {
   "cell_type": "code",
   "execution_count": null,
   "id": "af1e3111-2eae-4477-b31e-3250e2771c8a",
   "metadata": {},
   "outputs": [],
   "source": [
    "#Calculatiion of Range\n"
   ]
  }
 ],
 "metadata": {
  "kernelspec": {
   "display_name": "Python 3 (ipykernel)",
   "language": "python",
   "name": "python3"
  },
  "language_info": {
   "codemirror_mode": {
    "name": "ipython",
    "version": 3
   },
   "file_extension": ".py",
   "mimetype": "text/x-python",
   "name": "python",
   "nbconvert_exporter": "python",
   "pygments_lexer": "ipython3",
   "version": "3.11.9"
  }
 },
 "nbformat": 4,
 "nbformat_minor": 5
}
