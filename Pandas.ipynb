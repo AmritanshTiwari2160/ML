{
 "cells": [
  {
   "cell_type": "code",
   "execution_count": 51,
   "id": "a0d80f4a-541e-4aba-8daa-ee311a4b347d",
   "metadata": {},
   "outputs": [
    {
     "name": "stdout",
     "output_type": "stream",
     "text": [
      "      Name   Age  Gender  Math_Score  Science_Score Passed_Exam\n",
      "0    Alice  25.0  Female          85           90.0         Yes\n",
      "1      Bob  30.0    Male          92            NaN         Yes\n",
      "2  Charlie   NaN    Male          78           85.0          No\n",
      "3    David  28.0    Male          88           92.0         Yes\n",
      "4    Emily  24.0  Female          76           88.0          No\n"
     ]
    }
   ],
   "source": [
    "import pandas as pd\n",
    "import numpy as np\n",
    "\n",
    "data = {\n",
    "    'Name' : ['Alice', 'Bob', 'Charlie', 'David', 'Emily'],\n",
    "    'Age':[25 ,30, None, 28, 24],\n",
    "    'Gender': ['Female', 'Male', 'Male', 'Male', 'Female'],\n",
    "    'Math_Score':[85, 92, 78, 88, 76],\n",
    "    'Science_Score':[90, None, 85, 92, 88],\n",
    "    'Passed_Exam':['Yes', 'Yes', 'No', 'Yes', 'No']\n",
    "}\n",
    "df = pd.DataFrame(data)\n",
    "print(df)\n"
   ]
  },
  {
   "cell_type": "code",
   "execution_count": 52,
   "id": "d3d335d6-c1d7-4bf8-b7a3-17ff42603b97",
   "metadata": {},
   "outputs": [
    {
     "name": "stdout",
     "output_type": "stream",
     "text": [
      "26.0\n",
      "      Name   Age  Gender  Math_Score  Science_Score Passed_Exam\n",
      "0    Alice  25.0  Female          85           90.0         Yes\n",
      "1      Bob  30.0    Male          92            NaN         Yes\n",
      "2  Charlie  26.0    Male          78           85.0          No\n",
      "3    David  28.0    Male          88           92.0         Yes\n",
      "4    Emily  24.0  Female          76           88.0          No\n"
     ]
    },
    {
     "name": "stderr",
     "output_type": "stream",
     "text": [
      "C:\\Users\\parth\\AppData\\Local\\Temp\\ipykernel_19004\\2665016841.py:3: FutureWarning: A value is trying to be set on a copy of a DataFrame or Series through chained assignment using an inplace method.\n",
      "The behavior will change in pandas 3.0. This inplace method will never work because the intermediate object on which we are setting values always behaves as a copy.\n",
      "\n",
      "For example, when doing 'df[col].method(value, inplace=True)', try using 'df.method({col: value}, inplace=True)' or df[col] = df[col].method(value) instead, to perform the operation inplace on the original object.\n",
      "\n",
      "\n",
      "  df['Age'].fillna(meanAge, inplace = True)\n"
     ]
    }
   ],
   "source": [
    "meanAge=np.floor(df['Age'].mean())\n",
    "print(meanAge)\n",
    "df['Age'].fillna(meanAge, inplace = True)\n",
    "print(df)"
   ]
  },
  {
   "cell_type": "code",
   "execution_count": 55,
   "id": "b179493b-8fb3-45f9-89fe-b102a19e9aa2",
   "metadata": {},
   "outputs": [
    {
     "name": "stdout",
     "output_type": "stream",
     "text": [
      "      Name   Age  Gender  Math_Score  Science_Score Passed_Exam\n",
      "0    Alice  25.0  Female          85           90.0         Yes\n",
      "1      Bob  30.0    Male          92           88.0         Yes\n",
      "2  Charlie  26.0    Male          78           85.0          No\n",
      "3    David  28.0    Male          88           92.0         Yes\n",
      "4    Emily  24.0  Female          76           88.0          No\n"
     ]
    },
    {
     "name": "stderr",
     "output_type": "stream",
     "text": [
      "C:\\Users\\parth\\AppData\\Local\\Temp\\ipykernel_19004\\672989594.py:2: FutureWarning: A value is trying to be set on a copy of a DataFrame or Series through chained assignment using an inplace method.\n",
      "The behavior will change in pandas 3.0. This inplace method will never work because the intermediate object on which we are setting values always behaves as a copy.\n",
      "\n",
      "For example, when doing 'df[col].method(value, inplace=True)', try using 'df.method({col: value}, inplace=True)' or df[col] = df[col].method(value) instead, to perform the operation inplace on the original object.\n",
      "\n",
      "\n",
      "  df['Science_Score'].fillna(meanSci, inplace = True)\n"
     ]
    }
   ],
   "source": [
    "meanSci= np.floor(df['Science_Score'].mean())\n",
    "df['Science_Score'].fillna(meanSci, inplace = True)\n",
    "print(df)"
   ]
  },
  {
   "cell_type": "code",
   "execution_count": null,
   "id": "fb4f8d33-568d-4e7b-b4b3-fb3c1c0ad859",
   "metadata": {},
   "outputs": [],
   "source": []
  },
  {
   "cell_type": "code",
   "execution_count": 70,
   "id": "c5e9c910-4abc-4890-9b11-c2faf93b044d",
   "metadata": {},
   "outputs": [],
   "source": [
    "# Create dataframe from a list of dictionaries"
   ]
  },
  {
   "cell_type": "code",
   "execution_count": 71,
   "id": "bfe556a6-23e7-4235-ba4e-304d391b03fc",
   "metadata": {},
   "outputs": [
    {
     "name": "stdout",
     "output_type": "stream",
     "text": [
      "           name  age\n",
      "0      John Doe   30\n",
      "1    Jane Smith   25\n",
      "2     Sam Brown   22\n",
      "3    Lisa White   28\n",
      "4  Mike Johnson   35\n"
     ]
    }
   ],
   "source": [
    "data2 = [\n",
    "    {\"name\": \"John Doe\", \"age\": 30},\n",
    "    {\"name\": \"Jane Smith\", \"age\": 25},\n",
    "    {\"name\": \"Sam Brown\", \"age\": 22},\n",
    "    {\"name\": \"Lisa White\", \"age\": 28},\n",
    "    {\"name\": \"Mike Johnson\", \"age\": 35}\n",
    "]\n",
    "df_data2 = pd.DataFrame(data2)\n",
    "print(df_data2)"
   ]
  },
  {
   "cell_type": "code",
   "execution_count": null,
   "id": "139940ee-ef28-48f4-82ea-8e94908d43e5",
   "metadata": {},
   "outputs": [],
   "source": []
  },
  {
   "cell_type": "code",
   "execution_count": 59,
   "id": "646c03ce-404d-45ac-bc83-ab10837f385a",
   "metadata": {},
   "outputs": [],
   "source": [
    "#Create dataframe from a list of Lists"
   ]
  },
  {
   "cell_type": "code",
   "execution_count": 63,
   "id": "1075d654-3b30-4aaf-b8bc-30468e83e3c1",
   "metadata": {},
   "outputs": [
    {
     "name": "stdout",
     "output_type": "stream",
     "text": [
      "    0  1   2   3   4\n",
      "0  12  3   4   6   5\n",
      "1   2  4  23  44  21\n",
      "2   1  2   3  11  22\n"
     ]
    }
   ],
   "source": [
    "data3 = [\n",
    "    [12,3,4,6,5],\n",
    "    [2, 4 ,23, 44, 21],\n",
    "    [1,2,3,11,22],\n",
    "]\n",
    "df_data3 = pd.DataFrame(data3)\n",
    "print(df_data3)"
   ]
  },
  {
   "cell_type": "code",
   "execution_count": null,
   "id": "ff8c2419-ca57-4f3e-908d-80e41db45c8a",
   "metadata": {},
   "outputs": [],
   "source": []
  },
  {
   "cell_type": "code",
   "execution_count": 64,
   "id": "49cf2f16-91ef-45d9-813b-5691e0baf911",
   "metadata": {},
   "outputs": [],
   "source": [
    "#Create dataframe from numpy Array"
   ]
  },
  {
   "cell_type": "code",
   "execution_count": 72,
   "id": "bdd7a868-775b-4312-8835-417413ef30c2",
   "metadata": {},
   "outputs": [
    {
     "name": "stdout",
     "output_type": "stream",
     "text": [
      "[  1   2   3   4   5  11  22  33  44  55 111 222 333 444 555]\n",
      "      0\n",
      "0     1\n",
      "1     2\n",
      "2     3\n",
      "3     4\n",
      "4     5\n",
      "5    11\n",
      "6    22\n",
      "7    33\n",
      "8    44\n",
      "9    55\n",
      "10  111\n",
      "11  222\n",
      "12  333\n",
      "13  444\n",
      "14  555\n"
     ]
    }
   ],
   "source": [
    "# Numpy array\n",
    "nparray = np.array([1,2,3,4,5,11,22,33,44,55,111,222,333,444,555])\n",
    "# Pandas DataFrame\n",
    "df_data4 = pd.DataFrame(nparray)\n",
    "print(nparray)\n",
    "print(df_data4)"
   ]
  },
  {
   "cell_type": "code",
   "execution_count": null,
   "id": "b52934e1-10ef-45e7-87f3-cc942d662cf7",
   "metadata": {},
   "outputs": [],
   "source": []
  }
 ],
 "metadata": {
  "kernelspec": {
   "display_name": "Python 3 (ipykernel)",
   "language": "python",
   "name": "python3"
  },
  "language_info": {
   "codemirror_mode": {
    "name": "ipython",
    "version": 3
   },
   "file_extension": ".py",
   "mimetype": "text/x-python",
   "name": "python",
   "nbconvert_exporter": "python",
   "pygments_lexer": "ipython3",
   "version": "3.12.4"
  }
 },
 "nbformat": 4,
 "nbformat_minor": 5
}
